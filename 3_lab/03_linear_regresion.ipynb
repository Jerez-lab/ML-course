{
  "nbformat": 4,
  "nbformat_minor": 0,
  "metadata": {
    "kernelspec": {
      "display_name": "Python 3",
      "language": "python",
      "name": "python3"
    },
    "language_info": {
      "codemirror_mode": {
        "name": "ipython",
        "version": 3
      },
      "file_extension": ".py",
      "mimetype": "text/x-python",
      "name": "python",
      "nbconvert_exporter": "python",
      "pygments_lexer": "ipython3",
      "version": "3.8.3"
    },
    "colab": {
      "name": "03_linear_regresion.ipynb",
      "provenance": [],
      "include_colab_link": true
    }
  },
  "cells": [
    {
      "cell_type": "markdown",
      "metadata": {
        "id": "view-in-github",
        "colab_type": "text"
      },
      "source": [
        "<a href=\"https://colab.research.google.com/github/Jerez-lab/ML-course/blob/main/3_lab/03_linear_regresion.ipynb\" target=\"_parent\"><img src=\"https://colab.research.google.com/assets/colab-badge.svg\" alt=\"Open In Colab\"/></a>"
      ]
    },
    {
      "cell_type": "markdown",
      "metadata": {
        "id": "FNC-gOs581h_"
      },
      "source": [
        "## Задача 1"
      ]
    },
    {
      "cell_type": "markdown",
      "metadata": {
        "id": "blBpdJHx81iD"
      },
      "source": [
        "Построить модель линейной регрессии.\n",
        "\n",
        "* линейная модель\n",
        "* полином второй степени\n",
        "* полином третьей степени\n",
        "* экспонента\n",
        "\n",
        "Построить графики получившихся функций (линейная, квадратичная, кубическая, экспонента) и тренировочной выборки.\n",
        "\n",
        "* Посчитать MSE для каждого случая\n",
        "* Выбрать наилучший вариант (без тестовой выборки)\n",
        "\n",
        "Для решения можете использовать np.linalg.lstsq, np.polyfit, np.poly1d, scipy.stats.linregress, scipy.optimize.curve_fit, sklearn.linear_model.LinearRegression, statsmodels, np.linalg.solve (аналитически) или с помощью стохастического градиентного спуска (написать самостоятельно)."
      ]
    },
    {
      "cell_type": "code",
      "metadata": {
        "id": "1twQhX9O81iE"
      },
      "source": [
        "import numpy as np\n",
        "import matplotlib.pyplot as plt\n",
        "\n",
        "from sklearn.metrics import mean_squared_error"
      ],
      "execution_count": null,
      "outputs": []
    },
    {
      "cell_type": "code",
      "metadata": {
        "id": "kUdSI2C381iF"
      },
      "source": [
        "y = np.array([12.19, 8.41, 14.68, 8.64, 32.94, 22.61, 45.92, 23.63, 18.59, 36.22, 50.10, \n",
        "              46.22, 23.63, 47.30, 40.03, 56.53, 38.41, 51.47, 6.29, 35.41, 67.79, 74.21, 79.12, 45.10])\n",
        "x = np.linspace(0, 1, num = 24)"
      ],
      "execution_count": null,
      "outputs": []
    },
    {
      "cell_type": "code",
      "metadata": {
        "id": "VVKrdXfZ81iG",
        "outputId": "b9f045b4-fe1c-49b8-bf66-b8ac85e46428"
      },
      "source": [
        "plt.scatter(x, y);"
      ],
      "execution_count": null,
      "outputs": [
        {
          "data": {
            "image/png": "[encoded data removed]",
            "text/plain": [
              "<Figure size 432x288 with 1 Axes>"
            ]
          },
          "metadata": {
            "needs_background": "light"
          },
          "output_type": "display_data"
        }
      ]
    },
    {
      "cell_type": "code",
      "metadata": {
        "id": "CQMyQyuv81iH"
      },
      "source": [
        "onesX = np.ones(len(x))"
      ],
      "execution_count": null,
      "outputs": []
    },
    {
      "cell_type": "code",
      "metadata": {
        "id": "Uh-OrjJm81iH"
      },
      "source": [
        "X = np.array(list(zip(onesX, x)))\n",
        "W_1 = np.linalg.lstsq(X, y, rcond=None)[0]"
      ],
      "execution_count": null,
      "outputs": []
    },
    {
      "cell_type": "code",
      "metadata": {
        "id": "jtQcWzct81iH"
      },
      "source": [
        "X = np.array(list(zip(onesX, x, x*x)))\n",
        "W_2 = np.linalg.lstsq(X, y, rcond=None)[0]"
      ],
      "execution_count": null,
      "outputs": []
    },
    {
      "cell_type": "code",
      "metadata": {
        "id": "weoZ_gTQ81iI"
      },
      "source": [
        "X = np.array(list(zip(onesX, x, x*x, x*x*x)))\n",
        "W_3 = np.linalg.lstsq(X, y, rcond=None)[0]"
      ],
      "execution_count": null,
      "outputs": []
    },
    {
      "cell_type": "code",
      "metadata": {
        "id": "sHxZ8a8B81iI"
      },
      "source": [
        "W_exp = np.polyfit(x, np.log(y), 1)"
      ],
      "execution_count": null,
      "outputs": []
    },
    {
      "cell_type": "code",
      "metadata": {
        "id": "zXdqIoTM81iJ"
      },
      "source": [
        "def linear(x, w):\n",
        "    return w[0] + w[1]*x\n",
        "\n",
        "def poly2(x, w): \n",
        "    return w[0] + w[1]*x + w[2]*x**2\n",
        "\n",
        "def poly3(x, w): \n",
        "    return w[0] + w[1]*x + w[2]*x**2 + w[3]*x**3\n",
        "\n",
        "def exp(x, w):\n",
        "    return np.exp(w[0]) * np.exp(w[1]*x)"
      ],
      "execution_count": null,
      "outputs": []
    },
    {
      "cell_type": "code",
      "metadata": {
        "id": "O1_dolYY81iJ",
        "outputId": "dd6980c9-13b3-4bc4-8744-0d03f2418186"
      },
      "source": [
        "plt.scatter(x, y, label='Тренировочный набор')\n",
        "plt.plot(x, linear(x, W_1), label='Линейная модель')\n",
        "plt.plot(x, poly2(x, W_2), label='Полином 2 степени')\n",
        "plt.plot(x, poly3(x, W_3), label='Полином 3 степени')\n",
        "plt.plot(x, exp(x, W_exp), label='Экспонента')\n",
        "plt.legend();"
      ],
      "execution_count": null,
      "outputs": [
        {
          "data": {
            "image/png": "[encoded data removed]",
            "text/plain": [
              "<Figure size 432x288 with 1 Axes>"
            ]
          },
          "metadata": {
            "needs_background": "light"
          },
          "output_type": "display_data"
        }
      ]
    },
    {
      "cell_type": "code",
      "metadata": {
        "id": "onJHCoDo81iJ",
        "outputId": "d01e481f-5993-4705-d8ad-56e03fd11538"
      },
      "source": [
        "print(\"Среднеквадратическое отклонение у линейной модели : \", mean_squared_error(y, linear(x, W_1)))\n",
        "print(\"Среднеквадратическое отклонение у полинома 2 степени: \", mean_squared_error(y, poly2(x, W_2)))\n",
        "print(\"Среднеквадратическое отклонение у полинома 3 степени: \", mean_squared_error(y, poly3(x, W_3)))\n",
        "print(\"Среднеквадратическое отклонение у экспоненты: \", mean_squared_error(y, exp(x, W_exp)))"
      ],
      "execution_count": null,
      "outputs": [
        {
          "name": "stdout",
          "output_type": "stream",
          "text": [
            "Среднеквадратическое отклонение у линейной модели :  213.13469863888886\n",
            "Среднеквадратическое отклонение у полинома 2 степени:  212.59353678557318\n",
            "Среднеквадратическое отклонение у полинома 3 степени:  202.51303659090922\n",
            "Среднеквадратическое отклонение у экспоненты:  482.01611836359916\n"
          ]
        }
      ]
    },
    {
      "cell_type": "markdown",
      "metadata": {
        "id": "6qgucQRt81iK"
      },
      "source": [
        "Лучшая модель это полином 3 степени. Среднеквадратическое отклонение равно 202.5"
      ]
    },
    {
      "cell_type": "markdown",
      "metadata": {
        "id": "b7Tgkc6a81iK"
      },
      "source": [
        "## Задача 2"
      ]
    },
    {
      "cell_type": "markdown",
      "metadata": {
        "id": "Xw9Ape7b81iK"
      },
      "source": [
        "Данные: https://scikit-learn.org/stable/datasets/toy_dataset.html#diabetes-dataset\n",
        "\n",
        "1. Разделите данные на train/test или используйте кросс-валидацию (можно grid search)\n",
        "2. Постройте несколько моделей линейной регрессии:\n",
        "\n",
        "\n",
        "* sklearn.linear_model.LinearRegression\n",
        "* sklearn.linear_model.Ridge\n",
        "* sklearn.linear_model.Lasso\n",
        "* sklearn.linear_model.ElasticNet\n",
        "\n",
        "\n",
        "1. Для последних трёх вариантов попробуйте разные значения коэффициента регуляризации.\n",
        "2. Сравните построенные модели по MSE на тестовой выборке (или через кросс-валидацию)\n",
        "3. Какая модель оказалась наилучшей? Почему?"
      ]
    },
    {
      "cell_type": "code",
      "metadata": {
        "id": "h3WobLoZ81iL"
      },
      "source": [
        "import numpy as np\n",
        "\n",
        "from sklearn import datasets, linear_model\n",
        "from sklearn.metrics import mean_squared_error, r2_score, make_scorer\n",
        "from sklearn.model_selection import GridSearchCV\n",
        "from sklearn.model_selection import train_test_split\n",
        "from sklearn.model_selection import cross_val_score\n",
        "\n",
        "diabetes_X, diabetes_y = datasets.load_diabetes(return_X_y=True)\n",
        "X_train, X_test, y_train, y_test = train_test_split(diabetes_X, diabetes_y, test_size=0.3, random_state=42)"
      ],
      "execution_count": null,
      "outputs": []
    },
    {
      "cell_type": "code",
      "metadata": {
        "id": "vWQ7N5In81iM",
        "outputId": "edf8c221-92c3-4d3e-98d2-8a73063fd7bf"
      },
      "source": [
        "diabetes_X.shape"
      ],
      "execution_count": null,
      "outputs": [
        {
          "data": {
            "text/plain": [
              "(442, 10)"
            ]
          },
          "execution_count": 36,
          "metadata": {},
          "output_type": "execute_result"
        }
      ]
    },
    {
      "cell_type": "code",
      "metadata": {
        "id": "4NDq6ozk81iM"
      },
      "source": [
        "LR = linear_model.LinearRegression()\n",
        "Ridge = linear_model.Ridge()\n",
        "Lasso = linear_model.Lasso() \n",
        "Elastic = linear_model.ElasticNet()"
      ],
      "execution_count": null,
      "outputs": []
    },
    {
      "cell_type": "code",
      "metadata": {
        "id": "qCvp20_s81iM"
      },
      "source": [
        "MSE_lr_cv = cross_val_score(LR, diabetes_X, diabetes_y, cv=5, scoring=\"neg_mean_squared_error\").mean()"
      ],
      "execution_count": null,
      "outputs": []
    },
    {
      "cell_type": "code",
      "metadata": {
        "id": "zseWBiRV81iM",
        "outputId": "14ef3dd7-8e38-4d95-ca87-fb9bd0b24f51"
      },
      "source": [
        "alpha = [0.00001,0.001, 0.01, 0.1, 1, 10, 100, 1000, 10000]\n",
        "param_grid = dict(alpha=alpha)\n",
        "\n",
        "## Для Linear_model.Ridge()\n",
        "grid = GridSearchCV(linear_model.Ridge(), param_grid=param_grid, scoring=\"neg_mean_squared_error\").fit(X_train, y_train)\n",
        "print(f\"Linear_model.Ridge / {grid.best_params_} с лучшим результатом: {grid.best_score_}\")\n",
        "\n",
        "## Для Linear_model.Lasso()\n",
        "grid = GridSearchCV(linear_model.Lasso(), param_grid=param_grid, scoring=\"neg_mean_squared_error\").fit(X_train, y_train)\n",
        "print(f\"Linear_model.Lasso / {grid.best_params_} с лучшим результатом: {grid.best_score_}\")"
      ],
      "execution_count": null,
      "outputs": [
        {
          "name": "stdout",
          "output_type": "stream",
          "text": [
            "Linear_model.Ridge / {'alpha': 0.001} с лучшим результатом: -3165.6965443003737\n",
            "Linear_model.Lasso / {'alpha': 0.001} с лучшим результатом: -3167.2801333126213\n"
          ]
        }
      ]
    },
    {
      "cell_type": "code",
      "metadata": {
        "id": "s4QHA5sJ81iN"
      },
      "source": [
        "MSE_ridge_cv = cross_val_score(linear_model.Ridge(alpha=0.001), diabetes_X, diabetes_y, cv=5,\n",
        "                               scoring=\"neg_mean_squared_error\").mean()\n",
        "MSE_lasso_cv = cross_val_score(linear_model.Lasso(alpha=0.001), diabetes_X, diabetes_y, cv=5,\n",
        "                               scoring=\"neg_mean_squared_error\").mean()"
      ],
      "execution_count": null,
      "outputs": []
    },
    {
      "cell_type": "code",
      "metadata": {
        "id": "WNMD2Fp181iN",
        "outputId": "8245301d-3793-449e-ed75-e4bea4d650ca"
      },
      "source": [
        "import warnings\n",
        "\n",
        "warnings.filterwarnings('ignore')\n",
        "   \n",
        "    \n",
        "param_grid = {\n",
        "\"alpha\": [0.00001,0.001, 0.01, 0.1, 1, 10, 100, 1000, 10000],\n",
        "\"l1_ratio\": [0, 0.25, 0.5, 0.75, 1]\n",
        "}\n",
        "grid = GridSearchCV(linear_model.ElasticNet(), param_grid = param_grid, \n",
        "                    scoring=\"neg_mean_squared_error\").fit(X_train, y_train)\n",
        "print(f\"Elastic / {grid.best_params_} with best score: {grid.best_score_}\")"
      ],
      "execution_count": null,
      "outputs": [
        {
          "name": "stdout",
          "output_type": "stream",
          "text": [
            "Elastic / {'alpha': 1e-05, 'l1_ratio': 0.25} with best score: -3165.348657838087\n"
          ]
        }
      ]
    },
    {
      "cell_type": "code",
      "metadata": {
        "id": "0vhAcuOw81iN"
      },
      "source": [
        "MSE_elastic_cv = cross_val_score(linear_model.ElasticNet(alpha=0.00001, l1_ratio=0.25), diabetes_X, diabetes_y, cv=5,\n",
        "                                 scoring=\"neg_mean_squared_error\").mean()"
      ],
      "execution_count": null,
      "outputs": []
    },
    {
      "cell_type": "code",
      "metadata": {
        "id": "Bk4aIfIQ81iO",
        "outputId": "27010123-0f78-4b8d-b6a0-564e1f9e0166"
      },
      "source": [
        "print(\"Линейная регрессия со средним Cv MSE: \", MSE_lr_cv)\n",
        "print(\"Линейная регрессия с регуляризацией L1 со средним Cv MSE: \", MSE_lasso_cv)\n",
        "print(\"Линейная регрессия с регуляризацией L2 со средним Cv MSE: \", MSE_ridge_cv)\n",
        "print(\"ElasticNet со средним Cv MSE: \", MSE_elastic_cv)"
      ],
      "execution_count": null,
      "outputs": [
        {
          "name": "stdout",
          "output_type": "stream",
          "text": [
            "Линейная регрессия со средним Cv MSE:  -2993.0729432998864\n",
            "Линейная регрессия с регуляризацией L1 со средним Cv MSE:  -2993.121668315379\n",
            "Линейная регрессия с регуляризацией L2 со средним Cv MSE:  -2993.0578194241816\n",
            "ElasticNet со средним Cv MSE:  -2993.8554661044673\n"
          ]
        }
      ]
    },
    {
      "cell_type": "markdown",
      "metadata": {
        "id": "bMwVTvz081iO"
      },
      "source": [
        "Лучшим результатом оказалась линейная регрессия с регуляризацией L2. Ridge регрессия лучше подходит в данной ситуации, так как мы имеем большое количество переменных, каждая из которых имеет небольшой эффект."
      ]
    }
  ]
}